{
 "cells": [
  {
   "cell_type": "code",
   "execution_count": 3,
   "metadata": {
    "collapsed": false
   },
   "outputs": [
    {
     "ename": "ImportError",
     "evalue": "No module named caffe",
     "output_type": "error",
     "traceback": [
      "\u001b[1;31m---------------------------------------------------------------------------\u001b[0m",
      "\u001b[1;31mImportError\u001b[0m                               Traceback (most recent call last)",
      "\u001b[1;32m<ipython-input-3-0c1a71623ea0>\u001b[0m in \u001b[0;36m<module>\u001b[1;34m()\u001b[0m\n\u001b[0;32m      5\u001b[0m \"\"\"\n\u001b[0;32m      6\u001b[0m \u001b[1;33m\u001b[0m\u001b[0m\n\u001b[1;32m----> 7\u001b[1;33m \u001b[1;32mimport\u001b[0m \u001b[0mcaffe\u001b[0m\u001b[1;33m\u001b[0m\u001b[0m\n\u001b[0m\u001b[0;32m      8\u001b[0m \u001b[1;32mimport\u001b[0m \u001b[0mnumpy\u001b[0m \u001b[1;32mas\u001b[0m \u001b[0mnp\u001b[0m\u001b[1;33m\u001b[0m\u001b[0m\n\u001b[0;32m      9\u001b[0m \u001b[1;32mimport\u001b[0m \u001b[0msys\u001b[0m\u001b[1;33m,\u001b[0m \u001b[0mgetopt\u001b[0m\u001b[1;33m\u001b[0m\u001b[0m\n",
      "\u001b[1;31mImportError\u001b[0m: No module named caffe"
     ]
    }
   ],
   "source": [
    "# -*- coding: utf-8 -*-\n",
    "\"\"\"\n",
    "Created on Fri Apr 29 16:10:21 2016\n",
    "@author: xingw\n",
    "\"\"\"\n",
    "import numpy as np\n",
    "import sys, getopt\n",
    "\n",
    "sys.path.insert(0, '/home/nd/caffe_set/caffe_bwn_yolo/python')\n",
    "import caffe\n",
    "\n",
    "\n",
    "\n",
    "\n",
    "def transpose_matrix(inputWeight, rows, cols):\n",
    "\tinputWeight_t = np.zeros((rows*cols,1))\n",
    "\tfor x in xrange(rows):\n",
    "\t\tfor y in xrange(cols):\n",
    "\t\t\tinputWeight_t[y*rows + x] = inputWeight[x*cols + y]\n",
    "\treturn inputWeight_t\n",
    "\n",
    "def main(argv):\n",
    "\tmodel_filename = ''\n",
    "\tyoloweight_filename = ''\n",
    "\tcaffemodel_filename = ''\n",
    "\ttry:\n",
    "\t\topts, args = getopt.getopt(argv, \"hm:w:o:\")\n",
    "\t\tprint opts\n",
    "\texcept getopt.GetoptError:\n",
    "\t\tprint 'convert.py -m <model_file> -w <yoloweight_filename> -o <caffemodel_output>'\n",
    "\t\tsys.exit(2)\n",
    "\tfor opt, arg in opts:\n",
    "\t\tif opt == '-h':\n",
    "\t\t\tprint 'convert.py -m <model_file> -w <yoloweight_filename> -o <caffemodel_output>'\n",
    "\t\t\tsys.exit()\n",
    "\t\telif opt == \"-m\":\n",
    "\t\t\tmodel_filename = arg\n",
    "\t\telif opt == \"-w\":\n",
    "\t\t\tyoloweight_filename = arg\n",
    "\t\telif opt == \"-o\":\n",
    "\t\t\tcaffemodel_filename = arg\n",
    "\t\t\t\n",
    "\tprint 'model file is ', model_filename\n",
    "\tprint 'weight file is ', yoloweight_filename\n",
    "\tprint 'output caffemodel file is ', caffemodel_filename\n",
    "\tnet = caffe.Net(model_filename, caffe.TEST)\n",
    "\tparams = net.params.keys()\n",
    "\n",
    "\t# read weights from file and assign to the network\n",
    "\tnetWeightsInt = np.fromfile(yoloweight_filename, dtype=np.int32)\n",
    "\ttransFlag = (netWeightsInt[0]>1000 or netWeightsInt[1]>1000) # transpose flag, the first 4 entries are major, minor, revision and net.seen\n",
    "\tprint transFlag\n",
    "\n",
    "\tnetWeightsFloat = np.fromfile(yoloweight_filename, dtype=np.float32)\n",
    "\tnetWeights = netWeightsFloat[4:] # start from the 5th entry, the first 4 entries are major, minor, revision and net.seen\n",
    "\tprint netWeights.shape\n",
    "\tcount = 0\n",
    "\tfor pr in params:\n",
    "\t\tbiasSize = np.prod(net.params[pr][1].data.shape)\n",
    "\t\tnet.params[pr][1].data[...] = np.reshape(netWeights[count:count+biasSize], net.params[pr][1].data.shape)\n",
    "\t\tcount = count + biasSize\n",
    "\t\tweightSize = np.prod(net.params[pr][0].data.shape)\n",
    "\t\tif pr[0:2]=='co': # convolutional layer\n",
    "\t\t\tnet.params[pr][0].data[...] = np.reshape(netWeights[count:count+weightSize], net.params[pr][0].data.shape)\n",
    "\t\telse: # fc layer\n",
    "\t\t\tdims = net.params[pr][0].data.shape\n",
    "\t\t\tif transFlag: # need transpose for fc layers\n",
    "\t\t\t\tnet.params[pr][0].data[...] = np.reshape(transpose_matrix(netWeights[count:count+weightSize], dims[1],dims[0]), dims)\n",
    "\t\t\telse:\n",
    "\t\t\t\tnet.params[pr][0].data[...] = np.reshape(netWeights[count:count+weightSize], dims)\n",
    "\t\tcount = count + weightSize\n",
    "\tprint count\n",
    "\tnet.save(caffemodel_filename)\t\t\n",
    "\t\t\n",
    "if __name__=='__main__':\t\n",
    "\tmain(sys.argv[1:])\n"
   ]
  },
  {
   "cell_type": "code",
   "execution_count": null,
   "metadata": {
    "collapsed": true
   },
   "outputs": [],
   "source": []
  }
 ],
 "metadata": {
  "kernelspec": {
   "display_name": "Python 2",
   "language": "python",
   "name": "python2"
  },
  "language_info": {
   "codemirror_mode": {
    "name": "ipython",
    "version": 2
   },
   "file_extension": ".py",
   "mimetype": "text/x-python",
   "name": "python",
   "nbconvert_exporter": "python",
   "pygments_lexer": "ipython2",
   "version": "2.7.10"
  }
 },
 "nbformat": 4,
 "nbformat_minor": 0
}
